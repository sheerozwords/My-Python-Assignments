{
 "cells": [
  {
   "cell_type": "code",
   "execution_count": 1,
   "id": "53a4be02",
   "metadata": {},
   "outputs": [
    {
     "name": "stdout",
     "output_type": "stream",
     "text": [
      "27.333333333333332\n",
      "Grade A+\n",
      "20.666666666666668\n",
      "Grade A\n",
      "14.0\n",
      "Grade B\n"
     ]
    }
   ],
   "source": [
    "math = 82\n",
    "english = 62\n",
    "islamiat = 42\n",
    "\n",
    "total_marks = 300\n",
    "\n",
    "if math < 100 and math > 80:\n",
    "    print(math * 100 / total_marks)\n",
    "    print(\"Grade A+\")\n",
    "elif math < 80 and math > 60:\n",
    "    print(math * 100 / total_marks)\n",
    "    print(\"Grade A\")\n",
    "elif math < 60 and math > 40:\n",
    "    print(math * 100 / total_marks)\n",
    "    print(\"Grade B\")\n",
    "else:\n",
    "    print(\"Fail\");\n",
    "    \n",
    "if english < 100 and english > 80:\n",
    "    print(english * 100 / total_marks)\n",
    "    print(\"Grade A+\")\n",
    "elif english < 80 and english > 60:\n",
    "    print(english * 100 / total_marks)\n",
    "    print(\"Grade A\")\n",
    "elif english < 60 and english > 40:\n",
    "    print(english * 100 / total_marks)\n",
    "    print(\"Grade B\")\n",
    "else:\n",
    "    print(\"Fail\");\n",
    "    \n",
    "if islamiat < 100 and islamiat > 80:\n",
    "    print(islamiat * 100 / total_marks)\n",
    "    print(\"Grade A+\")\n",
    "elif islamiat < 80 and islamiat > 60:\n",
    "    print(islamiat * 100 / total_marks)\n",
    "    print(\"Grade A\")\n",
    "elif islamiat < 60 and islamiat > 40:\n",
    "    print(islamiat * 100 / total_marks)\n",
    "    print(\"Grade B\")\n",
    "else:\n",
    "    print(\"Fail\");"
   ]
  },
  {
   "cell_type": "code",
   "execution_count": null,
   "id": "93435cda",
   "metadata": {},
   "outputs": [],
   "source": []
  }
 ],
 "metadata": {
  "kernelspec": {
   "display_name": "Python 3",
   "language": "python",
   "name": "python3"
  },
  "language_info": {
   "codemirror_mode": {
    "name": "ipython",
    "version": 3
   },
   "file_extension": ".py",
   "mimetype": "text/x-python",
   "name": "python",
   "nbconvert_exporter": "python",
   "pygments_lexer": "ipython3",
   "version": "3.8.8"
  }
 },
 "nbformat": 4,
 "nbformat_minor": 5
}
