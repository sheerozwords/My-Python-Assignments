{
 "cells": [
  {
   "cell_type": "code",
   "execution_count": 1,
   "id": "901044bf",
   "metadata": {},
   "outputs": [
    {
     "name": "stdout",
     "output_type": "stream",
     "text": [
      "How many numbers: 5\n",
      "Enter number 10\n",
      "Enter number 20\n",
      "Enter number 30\n",
      "Enter number 40\n",
      "Enter number 50\n",
      "Sum of elements in given list is : 150\n"
     ]
    }
   ],
   "source": [
    "#Write a Python program to sum all the numeric items in a list?\n",
    "\n",
    "lst = [];\n",
    "num = int(input('How many numbers: '));\n",
    "for n in range(num):\n",
    "    numbers = int(input('Enter number '));\n",
    "    lst.append(numbers);\n",
    "print(\"Sum of elements in given list is :\", sum(lst));"
   ]
  },
  {
   "cell_type": "code",
   "execution_count": 2,
   "id": "a472bbf2",
   "metadata": {},
   "outputs": [
    {
     "name": "stdout",
     "output_type": "stream",
     "text": [
      "Twinkle, twinkle, little star,\n",
      "      How I wonder what you are!\n",
      "            Up above the world so high,\n",
      "            Like a diamond in the sky.\n",
      "Twinkle, twinkle, little star,\n",
      "      How I wonder what you are\n"
     ]
    }
   ],
   "source": [
    "#Write a Python program to print the following string in a specific format (see the output).\n",
    "\n",
    "                    #Twinkle, twinkle, little star,\n",
    "                            #How I wonder what you are!\n",
    "                                #Up above the world so high,\n",
    "                                #Like a diamond in the sky.\n",
    "                    #Twinkle, twinkle, little star,\n",
    "                            #How I wonder what you are\n",
    "                        \n",
    "print(\"Twinkle, twinkle, little star,\");\n",
    "print(\"      How I wonder what you are!\");\n",
    "print(\"            Up above the world so high,\");\n",
    "print(\"            Like a diamond in the sky.\");\n",
    "print(\"Twinkle, twinkle, little star,\");\n",
    "print(\"      How I wonder what you are\");"
   ]
  },
  {
   "cell_type": "code",
   "execution_count": 3,
   "id": "137f41a1",
   "metadata": {},
   "outputs": [
    {
     "name": "stdout",
     "output_type": "stream",
     "text": [
      "Python version\n",
      "3.8.8 (default, Apr 13 2021, 15:08:07) [MSC v.1916 32 bit (Intel)]\n",
      "Version info.\n",
      "sys.version_info(major=3, minor=8, micro=8, releaselevel='final', serial=0)\n"
     ]
    }
   ],
   "source": [
    "#Write a Python program to get the Python version you are using.\n",
    "\n",
    "import sys;\n",
    "print(\"Python version\");\n",
    "print (sys.version);\n",
    "print(\"Version info.\");\n",
    "print (sys.version_info);"
   ]
  },
  {
   "cell_type": "code",
   "execution_count": 4,
   "id": "a1df5fbe",
   "metadata": {},
   "outputs": [
    {
     "name": "stdout",
     "output_type": "stream",
     "text": [
      "Current date and time : \n",
      "2021-10-23 11:55:37\n"
     ]
    }
   ],
   "source": [
    "#Write a Python program to display the current date and time.\n",
    "\n",
    "import datetime;\n",
    "now = datetime.datetime.now();\n",
    "print (\"Current date and time : \");\n",
    "print (now.strftime(\"%Y-%m-%d %H:%M:%S\"));"
   ]
  },
  {
   "cell_type": "code",
   "execution_count": 5,
   "id": "359319c1",
   "metadata": {},
   "outputs": [
    {
     "name": "stdout",
     "output_type": "stream",
     "text": [
      "Input the radius of the circle : 50\n",
      "The area of the circle with radius 50.0 is: 7853.981633974483\n"
     ]
    }
   ],
   "source": [
    "#Write a Python program which accepts the radius of a circle from the user and compute the area.\n",
    "\n",
    "from math import pi;\n",
    "r = float(input (\"Input the radius of the circle : \"));\n",
    "print (\"The area of the circle with radius \" + str(r) + \" is: \" + str(pi * r**2));"
   ]
  },
  {
   "cell_type": "code",
   "execution_count": 6,
   "id": "532a1d5d",
   "metadata": {},
   "outputs": [
    {
     "name": "stdout",
     "output_type": "stream",
     "text": [
      "Input your First Name : Muhammad\n",
      "Input your Last Name : Sheeroz\n",
      "Hello  Sheeroz Muhammad\n"
     ]
    }
   ],
   "source": [
    "#Write a Python program which accepts the user's first and last name and print them in reverse order with a space between them.\n",
    "\n",
    "fname = input(\"Input your First Name : \");\n",
    "lname = input(\"Input your Last Name : \");\n",
    "print (\"Hello  \" + lname + \" \" + fname);"
   ]
  },
  {
   "cell_type": "code",
   "execution_count": 7,
   "id": "2b69e6c7",
   "metadata": {},
   "outputs": [
    {
     "name": "stdout",
     "output_type": "stream",
     "text": [
      "enter first number: 10\n",
      "enter second number: 20\n",
      "sum: 30\n"
     ]
    }
   ],
   "source": [
    "#Write a python program which takes two inputs from user and print them addition.\n",
    "\n",
    "a = int(input(\"enter first number: \"));\n",
    "b = int(input(\"enter second number: \"));\n",
    "sum = a + b;\n",
    "print(\"sum:\", sum);"
   ]
  },
  {
   "cell_type": "code",
   "execution_count": 8,
   "id": "5cc1b0a2",
   "metadata": {},
   "outputs": [
    {
     "name": "stdout",
     "output_type": "stream",
     "text": [
      "English Marks: 40\n",
      "Urdu Marks: 50\n",
      "Islamiat Marks: 60\n",
      "Maths Marks: 70\n",
      "Geography Marks: 80\n",
      "Grade: D\n"
     ]
    }
   ],
   "source": [
    "#Write a program which takes 5 inputs from user for different subject’s marks, total it and generate mark sheet using grades?\n",
    "\n",
    "English = int(input(\"English Marks: \"));\n",
    "Urdu = int(input(\"Urdu Marks: \"));\n",
    "Islamiat = int(input(\"Islamiat Marks: \"));\n",
    "Maths = int(input(\"Maths Marks: \"));\n",
    "Geography = int(input(\"Geography Marks: \"));\n",
    "\n",
    "Total=(English+Urdu+Islamiat+Maths+Geography)/5;\n",
    "\n",
    "if Total >= 90:\n",
    "    print(\"Grade: A\");\n",
    "elif Total >= 80 and Total < 90:\n",
    "    print(\"Grade: B\");\n",
    "elif Total >= 70 and Total < 80:\n",
    "    print(\"Grade: C\");\n",
    "elif Total >= 60 and Total < 70:\n",
    "    print(\"Grade: D\");\n",
    "else:\n",
    "    print(\"Grade: F\");"
   ]
  },
  {
   "cell_type": "code",
   "execution_count": 9,
   "id": "f91bcc9f",
   "metadata": {},
   "outputs": [
    {
     "name": "stdout",
     "output_type": "stream",
     "text": [
      "Enter a number: 4\n",
      "This is an even number.\n",
      "Enter a number: 5\n",
      "This is an odd number.\n"
     ]
    }
   ],
   "source": [
    "#Write a program which take input from user and identify that the given number is even or odd?\n",
    "\n",
    "#Print even number\n",
    "\n",
    "num = int(input(\"Enter a number: \"));\n",
    "mod = num % 2;\n",
    "if mod > 0:\n",
    "    print(\"This is an odd number.\");\n",
    "else:\n",
    "    print(\"This is an even number.\");\n",
    "    \n",
    "#Print odd number\n",
    "\n",
    "num = int(input(\"Enter a number: \"));\n",
    "mod = num % 2;\n",
    "if mod > 0:\n",
    "    print(\"This is an odd number.\");\n",
    "else:\n",
    "    print(\"This is an even number.\");"
   ]
  },
  {
   "cell_type": "code",
   "execution_count": 10,
   "id": "e4246c5b",
   "metadata": {},
   "outputs": [
    {
     "name": "stdout",
     "output_type": "stream",
     "text": [
      "Largest element is: 99\n"
     ]
    }
   ],
   "source": [
    "#Write a Python program to get the largest number from a numeric list.\n",
    "\n",
    "list1 = [10, 20, 4, 45, 99];\n",
    "list1.sort();\n",
    "print(\"Largest element is:\", list1[-1]);"
   ]
  },
  {
   "cell_type": "code",
   "execution_count": 11,
   "id": "c78955f8",
   "metadata": {},
   "outputs": [
    {
     "name": "stdout",
     "output_type": "stream",
     "text": [
      "1\n",
      "1\n",
      "2\n",
      "3\n"
     ]
    }
   ],
   "source": [
    "#Take a list, say for example this one:\n",
    "    #a = [1, 1, 2, 3, 5, 8, 13, 21, 34, 55, 89]\n",
    "#Write a program that prints out all the elements of the list that are less than 5.\n",
    "\n",
    "a = [1, 1, 2, 3, 5, 8, 13, 21, 34, 55, 89];\n",
    "for i in a:\n",
    "    if i < 5:\n",
    "        print(i);"
   ]
  },
  {
   "cell_type": "code",
   "execution_count": 12,
   "id": "796f31e2",
   "metadata": {},
   "outputs": [
    {
     "name": "stdout",
     "output_type": "stream",
     "text": [
      "Number of items in the list =  5\n"
     ]
    }
   ],
   "source": [
    "#Write a program which print the length of the list? \n",
    "\n",
    "ListName = [\"Hello\", \"Edureka\", 1, 2, 3];\n",
    "print (\"Number of items in the list = \", len(ListName));"
   ]
  },
  {
   "cell_type": "code",
   "execution_count": null,
   "id": "daa1d553",
   "metadata": {},
   "outputs": [],
   "source": []
  }
 ],
 "metadata": {
  "kernelspec": {
   "display_name": "Python 3",
   "language": "python",
   "name": "python3"
  },
  "language_info": {
   "codemirror_mode": {
    "name": "ipython",
    "version": 3
   },
   "file_extension": ".py",
   "mimetype": "text/x-python",
   "name": "python",
   "nbconvert_exporter": "python",
   "pygments_lexer": "ipython3",
   "version": "3.8.8"
  }
 },
 "nbformat": 4,
 "nbformat_minor": 5
}
